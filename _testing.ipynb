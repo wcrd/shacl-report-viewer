{
 "cells": [
  {
   "cell_type": "markdown",
   "metadata": {},
   "source": [
    "# JS-Working\n",
    "This notebook is to test JS functions and work on graph algos"
   ]
  },
  {
   "cell_type": "markdown",
   "metadata": {},
   "source": [
    "## Requirements\n",
    "Install Deno Jupyter Kernel: https://docs.deno.com/runtime/manual/tools/jupyter/"
   ]
  },
  {
   "cell_type": "code",
   "execution_count": 1,
   "metadata": {},
   "outputs": [
    {
     "name": "stdout",
     "output_type": "stream",
     "text": [
      "Hello\n"
     ]
    }
   ],
   "source": [
    "console.log(\"Hello\")"
   ]
  },
  {
   "cell_type": "markdown",
   "metadata": {},
   "source": [
    "### fileUtils"
   ]
  },
  {
   "cell_type": "code",
   "execution_count": 2,
   "metadata": {},
   "outputs": [],
   "source": [
    "async function fileHandler(file){\n",
    "    const text = await readFileAsync(file)\n",
    "    return text\n",
    "};\n",
    "\n",
    "// Helper function to read async\n",
    "function readFileAsync(file) {\n",
    "    return new Promise((resolve, reject) => {\n",
    "        let reader = new FileReader();\n",
    "\n",
    "        reader.onload = () => {\n",
    "            resolve(reader.result);\n",
    "        };\n",
    "\n",
    "        reader.onerror = reject;\n",
    "\n",
    "        reader.readAsText(file);\n",
    "    })\n",
    "}"
   ]
  },
  {
   "cell_type": "markdown",
   "metadata": {},
   "source": [
    "### graph.svelte functions"
   ]
  },
  {
   "cell_type": "code",
   "execution_count": 3,
   "metadata": {},
   "outputs": [],
   "source": [
    "import N3 from 'n3'\n",
    "const { namedNode, defaultGraph } = N3.DataFactory"
   ]
  },
  {
   "cell_type": "code",
   "execution_count": 4,
   "metadata": {},
   "outputs": [],
   "source": [
    "class GraphStore {\n",
    "    graph;\n",
    "    parser = new N3.Parser()\n",
    "\n",
    "    constructor(){\n",
    "        this.graph = new N3.Store()\n",
    "    }\n",
    "\n",
    "    // Will make this a $derived action on text change in future, \n",
    "    // but for now (and speed) will just manually trigger on: file upload | UI Button\n",
    "    async parse(fileAsString, namedgraph=\"https://graph.com/unnamed#\"){\n",
    "        // TODO: namedgraph should be typed / error checked.\n",
    "        const namedGraphNode = namedNode(namedgraph)\n",
    "\n",
    "        await this.parser.parse(fileAsString, (error, quad) => {\n",
    "            if (quad) {\n",
    "                this.graph.addQuad(quad.subject, quad.predicate, quad.object, namedGraphNode)\n",
    "            } else if (error) {\n",
    "                console.log(\"Error parsing: \", error)\n",
    "            } else {\n",
    "                console.log(\"Parsing complete.\") // TODO: Remove this in prod and do something smarter\n",
    "            }\n",
    "        });\n",
    "    }\n",
    "\n",
    "    // Helper methods for processing SHACL result graph\n",
    "    getResultNodes() {\n",
    "        /// Returns all top level validation results\n",
    "        /// Nested result detail needs to be expanded for each top level result\n",
    "        return this.graph.getObjects(null, namedNode(\"http://www.w3.org/ns/shacl#result\"), null)\n",
    "    }\n",
    "\n",
    "    // Couple of DEBUG helper methods\n",
    "    _node(uri) { return namedNode(uri) }\n",
    "    get _default() { return defaultGraph() }\n",
    "    get _namedGraphs() { return Object.keys(this.graph?._graphs) }\n",
    "}"
   ]
  },
  {
   "cell_type": "markdown",
   "metadata": {},
   "source": [
    "## Working"
   ]
  },
  {
   "cell_type": "code",
   "execution_count": 5,
   "metadata": {},
   "outputs": [],
   "source": [
    "// Load file into memory as text\n",
    "// FILE UTILS are not needed as Deno can read using its built in API :)\n",
    "const fileData = await Deno.readTextFile(\"/Users/wcrd/Desktop/report_test_graph_2.ttl\")"
   ]
  },
  {
   "cell_type": "code",
   "execution_count": 6,
   "metadata": {},
   "outputs": [
    {
     "name": "stdout",
     "output_type": "stream",
     "text": [
      "Parsing complete.\n"
     ]
    }
   ],
   "source": [
    "let graphStore = new GraphStore();\n",
    "await graphStore.parse(fileData)"
   ]
  },
  {
   "cell_type": "code",
   "execution_count": 7,
   "metadata": {},
   "outputs": [
    {
     "data": {
      "text/plain": [
       "[\n",
       "  BlankNode { id: \u001b[32m\"_:n3-1\"\u001b[39m },\n",
       "  BlankNode { id: \u001b[32m\"_:n3-3\"\u001b[39m },\n",
       "  BlankNode { id: \u001b[32m\"_:n3-5\"\u001b[39m },\n",
       "  BlankNode { id: \u001b[32m\"_:n3-12\"\u001b[39m },\n",
       "  BlankNode { id: \u001b[32m\"_:n3-13\"\u001b[39m },\n",
       "  BlankNode { id: \u001b[32m\"_:n3-15\"\u001b[39m },\n",
       "  BlankNode { id: \u001b[32m\"_:n3-16\"\u001b[39m },\n",
       "  BlankNode { id: \u001b[32m\"_:n3-18\"\u001b[39m },\n",
       "  BlankNode { id: \u001b[32m\"_:n3-20\"\u001b[39m },\n",
       "  BlankNode { id: \u001b[32m\"_:n3-22\"\u001b[39m },\n",
       "  BlankNode { id: \u001b[32m\"_:n3-23\"\u001b[39m },\n",
       "  BlankNode { id: \u001b[32m\"_:n3-25\"\u001b[39m },\n",
       "  BlankNode { id: \u001b[32m\"_:n3-26\"\u001b[39m },\n",
       "  BlankNode { id: \u001b[32m\"_:n3-27\"\u001b[39m },\n",
       "  BlankNode { id: \u001b[32m\"_:n3-29\"\u001b[39m },\n",
       "  BlankNode { id: \u001b[32m\"_:n3-31\"\u001b[39m },\n",
       "  BlankNode { id: \u001b[32m\"_:n3-33\"\u001b[39m },\n",
       "  BlankNode { id: \u001b[32m\"_:n3-35\"\u001b[39m },\n",
       "  BlankNode { id: \u001b[32m\"_:n3-37\"\u001b[39m },\n",
       "  BlankNode { id: \u001b[32m\"_:n3-39\"\u001b[39m },\n",
       "  BlankNode { id: \u001b[32m\"_:n3-41\"\u001b[39m },\n",
       "  BlankNode { id: \u001b[32m\"_:n3-43\"\u001b[39m },\n",
       "  BlankNode { id: \u001b[32m\"_:n3-45\"\u001b[39m },\n",
       "  BlankNode { id: \u001b[32m\"_:n3-47\"\u001b[39m },\n",
       "  BlankNode { id: \u001b[32m\"_:n3-49\"\u001b[39m },\n",
       "  BlankNode { id: \u001b[32m\"_:n3-51\"\u001b[39m },\n",
       "  BlankNode { id: \u001b[32m\"_:n3-53\"\u001b[39m },\n",
       "  BlankNode { id: \u001b[32m\"_:n3-55\"\u001b[39m },\n",
       "  BlankNode { id: \u001b[32m\"_:n3-56\"\u001b[39m },\n",
       "  BlankNode { id: \u001b[32m\"_:n3-57\"\u001b[39m },\n",
       "  BlankNode { id: \u001b[32m\"_:n3-59\"\u001b[39m },\n",
       "  BlankNode { id: \u001b[32m\"_:n3-60\"\u001b[39m },\n",
       "  BlankNode { id: \u001b[32m\"_:n3-61\"\u001b[39m },\n",
       "  BlankNode { id: \u001b[32m\"_:n3-63\"\u001b[39m },\n",
       "  BlankNode { id: \u001b[32m\"_:n3-64\"\u001b[39m },\n",
       "  BlankNode { id: \u001b[32m\"_:n3-65\"\u001b[39m },\n",
       "  BlankNode { id: \u001b[32m\"_:n3-67\"\u001b[39m },\n",
       "  BlankNode { id: \u001b[32m\"_:n3-69\"\u001b[39m },\n",
       "  BlankNode { id: \u001b[32m\"_:n3-70\"\u001b[39m },\n",
       "  BlankNode { id: \u001b[32m\"_:n3-72\"\u001b[39m },\n",
       "  BlankNode { id: \u001b[32m\"_:n3-74\"\u001b[39m },\n",
       "  BlankNode { id: \u001b[32m\"_:n3-76\"\u001b[39m },\n",
       "  BlankNode { id: \u001b[32m\"_:n3-77\"\u001b[39m },\n",
       "  BlankNode { id: \u001b[32m\"_:n3-79\"\u001b[39m },\n",
       "  BlankNode { id: \u001b[32m\"_:n3-80\"\u001b[39m },\n",
       "  BlankNode { id: \u001b[32m\"_:n3-82\"\u001b[39m },\n",
       "  BlankNode { id: \u001b[32m\"_:n3-83\"\u001b[39m },\n",
       "  BlankNode { id: \u001b[32m\"_:n3-84\"\u001b[39m },\n",
       "  BlankNode { id: \u001b[32m\"_:n3-86\"\u001b[39m },\n",
       "  BlankNode { id: \u001b[32m\"_:n3-88\"\u001b[39m },\n",
       "  BlankNode { id: \u001b[32m\"_:n3-90\"\u001b[39m },\n",
       "  BlankNode { id: \u001b[32m\"_:n3-92\"\u001b[39m },\n",
       "  BlankNode { id: \u001b[32m\"_:n3-94\"\u001b[39m },\n",
       "  BlankNode { id: \u001b[32m\"_:n3-96\"\u001b[39m },\n",
       "  BlankNode { id: \u001b[32m\"_:n3-98\"\u001b[39m },\n",
       "  BlankNode { id: \u001b[32m\"_:n3-99\"\u001b[39m },\n",
       "  BlankNode { id: \u001b[32m\"_:n3-101\"\u001b[39m },\n",
       "  BlankNode { id: \u001b[32m\"_:n3-103\"\u001b[39m },\n",
       "  BlankNode { id: \u001b[32m\"_:n3-104\"\u001b[39m },\n",
       "  BlankNode { id: \u001b[32m\"_:n3-106\"\u001b[39m },\n",
       "  BlankNode { id: \u001b[32m\"_:n3-107\"\u001b[39m },\n",
       "  BlankNode { id: \u001b[32m\"_:n3-109\"\u001b[39m },\n",
       "  BlankNode { id: \u001b[32m\"_:n3-111\"\u001b[39m },\n",
       "  BlankNode { id: \u001b[32m\"_:n3-113\"\u001b[39m }\n",
       "]"
      ]
     },
     "execution_count": 7,
     "metadata": {},
     "output_type": "execute_result"
    }
   ],
   "source": [
    "graphStore.getResultNodes()"
   ]
  },
  {
   "cell_type": "markdown",
   "metadata": {},
   "source": [
    "## Tree Generator\n",
    "Now that we have the graph data available in here, lets write an ag-grid tree generator"
   ]
  },
  {
   "cell_type": "markdown",
   "metadata": {},
   "source": [
    "EG from ag-grid.com\n",
    "\n",
    "```javascript\n",
    "const rowData = [\n",
    "    { orgHierarchy: ['Erica'], jobTitle: \"CEO\", employmentType: \"Permanent\" },\n",
    "    { orgHierarchy: ['Erica', 'Malcolm'], jobTitle: \"VP\", employmentType: \"Permanent\" }\n",
    "    ...\n",
    "]\n",
    "```\n",
    "\n",
    "Need to provide path as array\n"
   ]
  },
  {
   "cell_type": "code",
   "execution_count": 8,
   "metadata": {},
   "outputs": [],
   "source": [
    "/* \n",
    "Plan\n",
    "--------\n",
    "for each top level result:\n",
    "    enrich\n",
    "    recursively decend detail until no more\n",
    "        for each detail, enrich\n",
    "*/\n",
    "\n",
    "function enrichNode(store, node){\n",
    "    // get all pred-objs\n",
    "    const quads = store.getQuads(node, null, null, null)\n",
    "\n",
    "    // expand and turn into a wide data row\n",
    "    // have to use 2x map b/c reduce was giving me weird errors\n",
    "    const keys = quads.map(r => r._predicate.id.split(\"#\")[1])\n",
    "    const values = quads.map(r => r._object.id)\n",
    "\n",
    "    return { id: node.id, ...createObject(keys, values) }\n",
    "}\n",
    "\n",
    "function getTopLevelResults(store){\n",
    "    /// Returns all top level validation results\n",
    "    return store.getObjects(null, namedNode(\"http://www.w3.org/ns/shacl#result\"), null)\n",
    "}\n",
    "\n",
    "function getResultDetails(store, node){\n",
    "    /// for the given node, get all validation result details, if present\n",
    "    return store.getObjects(node, namedNode(\"http://www.w3.org/ns/shacl#detail\"), null)\n",
    "}\n",
    "\n",
    "\n",
    "// Util\n",
    "function createObject(keys, values) {\n",
    "    // Given list of keys and values, zip into object.\n",
    "    const obj = Object.fromEntries(\n",
    "        keys.map((key, index) => [key, values[index]]),\n",
    "    );\n",
    "\n",
    "    return obj;\n",
    "}\n"
   ]
  },
  {
   "cell_type": "code",
   "execution_count": 16,
   "metadata": {},
   "outputs": [],
   "source": [
    "function generateValidationResultTreeData(store, rootAtFocus=true){\n",
    "    /// Given a graph (store) of a valid SHACL result graph; generate an ag-grid compatible tree ;\n",
    "    /// Additionally enrich nodes with data for grid columns.\n",
    "    let results = []\n",
    "\n",
    "    for (let node of getTopLevelResults(store)) {\n",
    "        let path = []\n",
    "        // seed path\n",
    "        if(rootAtFocus) { path.push( store.getObjects(node, namedNode(\"http://www.w3.org/ns/shacl#focusNode\"), null)?.[0]?.id ) }\n",
    "        path.push(node.id)\n",
    "\n",
    "        results.push({path, ...enrichNode(store, node)})\n",
    "    }\n",
    "\n",
    "    return results\n",
    "}\n"
   ]
  },
  {
   "cell_type": "code",
   "execution_count": 10,
   "metadata": {},
   "outputs": [],
   "source": [
    "let topLevelNodes = getTopLevelResults(graphStore.graph)"
   ]
  },
  {
   "cell_type": "code",
   "execution_count": 11,
   "metadata": {},
   "outputs": [
    {
     "data": {
      "text/plain": [
       "{\n",
       "  id: \u001b[32m\"_:n3-1\"\u001b[39m,\n",
       "  type: \u001b[32m\"http://www.w3.org/ns/shacl#ValidationResult\"\u001b[39m,\n",
       "  focusNode: \u001b[32m\"uri:ex#DB3A04F0-5109-4514-9192-434AA2D34ADE\"\u001b[39m,\n",
       "  resultMessage: \u001b[32m'\"Value does not conform to Shape plV:Zone_Node_Cardinality. See details for more information.\"'\u001b[39m,\n",
       "  resultSeverity: \u001b[32m\"http://www.w3.org/ns/shacl#Violation\"\u001b[39m,\n",
       "  sourceConstraintComponent: \u001b[32m\"http://www.w3.org/ns/shacl#NodeConstraintComponent\"\u001b[39m,\n",
       "  sourceShape: \u001b[32m\"https://www.passivelogic.com/schema/EntityValidationShape#Zone_Atomics\"\u001b[39m,\n",
       "  detail: \u001b[32m\"_:n3-2\"\u001b[39m,\n",
       "  value: \u001b[32m\"uri:ex#DB3A04F0-5109-4514-9192-434AA2D34ADE\"\u001b[39m\n",
       "}"
      ]
     },
     "execution_count": 11,
     "metadata": {},
     "output_type": "execute_result"
    }
   ],
   "source": [
    "enrichNode(graphStore.graph, topLevelNodes[0])"
   ]
  },
  {
   "cell_type": "code",
   "execution_count": 12,
   "metadata": {},
   "outputs": [
    {
     "name": "stdout",
     "output_type": "stream",
     "text": [
      "{\n",
      "  id: \"_:n3-2\",\n",
      "  type: \"http://www.w3.org/ns/shacl#ValidationResult\",\n",
      "  focusNode: \"uri:ex#DB3A04F0-5109-4514-9192-434AA2D34ADE\",\n",
      "  resultMessage: '\"Zone does not have a volume property\"',\n",
      "  resultPath: \"https://www.passivelogic.com/schema/core#hasProperty\",\n",
      "  resultSeverity: \"http://www.w3.org/ns/shacl#Violation\",\n",
      "  sourceConstraintComponent: \"http://www.w3.org/ns/shacl#QualifiedMinCountConstraintComponent\",\n",
      "  sourceShape: \"_:b0_n8b1237bed3344264a4681a4ea0713f1eb14\"\n",
      "}\n"
     ]
    }
   ],
   "source": [
    "getResultDetails(graphStore.graph, topLevelNodes[0]).forEach((res)=>{ console.log(enrichNode(graphStore.graph, res))})"
   ]
  },
  {
   "cell_type": "code",
   "execution_count": 13,
   "metadata": {},
   "outputs": [
    {
     "data": {
      "text/plain": [
       "\u001b[32m\"_:n3-1\"\u001b[39m"
      ]
     },
     "execution_count": 13,
     "metadata": {},
     "output_type": "execute_result"
    }
   ],
   "source": [
    "topLevelNodes[0].id"
   ]
  },
  {
   "cell_type": "code",
   "execution_count": 17,
   "metadata": {},
   "outputs": [
    {
     "data": {
      "text/plain": [
       "[\n",
       "  { path: [ \u001b[32m\"uri:ex#DB3A04F0-5109-4514-9192-434AA2D34ADE\"\u001b[39m, \u001b[32m\"_:n3-1\"\u001b[39m ] },\n",
       "  { path: [ \u001b[32m\"uri:ex#963AE654-9F33-4847-87AD-44A180A9D186\"\u001b[39m, \u001b[32m\"_:n3-3\"\u001b[39m ] },\n",
       "  { path: [ \u001b[32m\"uri:ex#2CF3AAD7-C8A9-494A-B866-B526815C0E7B\"\u001b[39m, \u001b[32m\"_:n3-5\"\u001b[39m ] },\n",
       "  {\n",
       "    path: [ \u001b[32m\"uri:ex#F37BCE5F-C583-4F49-82FC-270002529D3A\"\u001b[39m, \u001b[32m\"_:n3-12\"\u001b[39m ]\n",
       "  },\n",
       "  {\n",
       "    path: [ \u001b[32m\"uri:ex#95E6D323-FA10-42B2-B4A4-AFD423607E3B\"\u001b[39m, \u001b[32m\"_:n3-13\"\u001b[39m ]\n",
       "  },\n",
       "  {\n",
       "    path: [ \u001b[32m\"uri:ex#98D465D8-9513-4A30-93C4-B3104FAB6DAC\"\u001b[39m, \u001b[32m\"_:n3-15\"\u001b[39m ]\n",
       "  },\n",
       "  {\n",
       "    path: [ \u001b[32m\"uri:ex#D7C0F57A-E02D-4FBC-BC55-0CADC0DA69D5\"\u001b[39m, \u001b[32m\"_:n3-16\"\u001b[39m ]\n",
       "  },\n",
       "  {\n",
       "    path: [ \u001b[32m\"uri:ex#4ED91862-62CF-4AC1-AC23-A333F3F73D05\"\u001b[39m, \u001b[32m\"_:n3-18\"\u001b[39m ]\n",
       "  },\n",
       "  {\n",
       "    path: [ \u001b[32m\"uri:ex#A0C672EB-3968-4E51-A578-D10DAA2EC68D\"\u001b[39m, \u001b[32m\"_:n3-20\"\u001b[39m ]\n",
       "  },\n",
       "  {\n",
       "    path: [ \u001b[32m\"uri:ex#91906073-FA68-4A33-8629-A3A1DE80E09D\"\u001b[39m, \u001b[32m\"_:n3-22\"\u001b[39m ]\n",
       "  },\n",
       "  {\n",
       "    path: [ \u001b[32m\"uri:ex#C6A20E34-5B8B-4BAC-9F28-71B38EAEB885\"\u001b[39m, \u001b[32m\"_:n3-23\"\u001b[39m ]\n",
       "  },\n",
       "  {\n",
       "    path: [ \u001b[32m\"uri:ex#D93DC160-192E-4AD7-A094-68B3EA7065B1\"\u001b[39m, \u001b[32m\"_:n3-25\"\u001b[39m ]\n",
       "  },\n",
       "  {\n",
       "    path: [ \u001b[32m\"uri:ex#C2A47813-616D-4927-B7D9-AA059F24B9FB\"\u001b[39m, \u001b[32m\"_:n3-26\"\u001b[39m ]\n",
       "  },\n",
       "  {\n",
       "    path: [ \u001b[32m\"uri:ex#7331F64C-D87F-406C-940E-08B6523819F9\"\u001b[39m, \u001b[32m\"_:n3-27\"\u001b[39m ]\n",
       "  },\n",
       "  {\n",
       "    path: [ \u001b[32m\"uri:ex#F2419A30-3022-409E-AB38-5B75212BBCF2\"\u001b[39m, \u001b[32m\"_:n3-29\"\u001b[39m ]\n",
       "  },\n",
       "  {\n",
       "    path: [ \u001b[32m\"uri:ex#EDE510CE-4223-4199-8371-931A9F12AF22\"\u001b[39m, \u001b[32m\"_:n3-31\"\u001b[39m ]\n",
       "  },\n",
       "  {\n",
       "    path: [ \u001b[32m\"uri:ex#212BB4AC-F41C-4AD5-B738-BE3C6886F4CD\"\u001b[39m, \u001b[32m\"_:n3-33\"\u001b[39m ]\n",
       "  },\n",
       "  {\n",
       "    path: [ \u001b[32m\"uri:ex#40A4C684-5C15-4871-9F3C-70B3E77B3A97\"\u001b[39m, \u001b[32m\"_:n3-35\"\u001b[39m ]\n",
       "  },\n",
       "  {\n",
       "    path: [ \u001b[32m\"uri:ex#442CF638-CD7B-4F08-8BA0-F71967C09581\"\u001b[39m, \u001b[32m\"_:n3-37\"\u001b[39m ]\n",
       "  },\n",
       "  {\n",
       "    path: [ \u001b[32m\"uri:ex#9B44733E-F9F8-4C93-A9B5-2E6188E021C4\"\u001b[39m, \u001b[32m\"_:n3-39\"\u001b[39m ]\n",
       "  },\n",
       "  {\n",
       "    path: [ \u001b[32m\"uri:ex#DEF27301-FACC-4312-8775-224838850148\"\u001b[39m, \u001b[32m\"_:n3-41\"\u001b[39m ]\n",
       "  },\n",
       "  {\n",
       "    path: [ \u001b[32m\"uri:ex#6351291B-D137-4C79-82E0-EA614D362039\"\u001b[39m, \u001b[32m\"_:n3-43\"\u001b[39m ]\n",
       "  },\n",
       "  {\n",
       "    path: [ \u001b[32m\"uri:ex#230805BA-8A10-4F62-96E9-A5D5108401B9\"\u001b[39m, \u001b[32m\"_:n3-45\"\u001b[39m ]\n",
       "  },\n",
       "  {\n",
       "    path: [ \u001b[32m\"uri:ex#FDD42C09-F02C-4848-B933-893E9A734A1E\"\u001b[39m, \u001b[32m\"_:n3-47\"\u001b[39m ]\n",
       "  },\n",
       "  {\n",
       "    path: [ \u001b[32m\"uri:ex#4ACBA09A-0B0B-4BAF-BD13-AAE040A8E174\"\u001b[39m, \u001b[32m\"_:n3-49\"\u001b[39m ]\n",
       "  },\n",
       "  {\n",
       "    path: [ \u001b[32m\"uri:ex#89F8F498-933D-442E-8C1C-12A24FFA3298\"\u001b[39m, \u001b[32m\"_:n3-51\"\u001b[39m ]\n",
       "  },\n",
       "  {\n",
       "    path: [ \u001b[32m\"uri:ex#5F236212-6A12-4C64-9686-4700605CA09B\"\u001b[39m, \u001b[32m\"_:n3-53\"\u001b[39m ]\n",
       "  },\n",
       "  {\n",
       "    path: [ \u001b[32m\"uri:ex#6F4A090A-B6AE-489A-A77E-0ED64C68F75D\"\u001b[39m, \u001b[32m\"_:n3-55\"\u001b[39m ]\n",
       "  },\n",
       "  {\n",
       "    path: [ \u001b[32m\"uri:ex#88D01B49-B730-450B-8F78-D2EB5E40FB11\"\u001b[39m, \u001b[32m\"_:n3-56\"\u001b[39m ]\n",
       "  },\n",
       "  {\n",
       "    path: [ \u001b[32m\"uri:ex#FC3054E0-0D91-41FE-85F2-061BA6682E77\"\u001b[39m, \u001b[32m\"_:n3-57\"\u001b[39m ]\n",
       "  },\n",
       "  {\n",
       "    path: [ \u001b[32m\"uri:ex#53AD4181-BA71-4246-BB40-46AA28CAE807\"\u001b[39m, \u001b[32m\"_:n3-59\"\u001b[39m ]\n",
       "  },\n",
       "  {\n",
       "    path: [ \u001b[32m\"uri:ex#69540638-4454-47A7-94EF-EC57C0C895AB\"\u001b[39m, \u001b[32m\"_:n3-60\"\u001b[39m ]\n",
       "  },\n",
       "  {\n",
       "    path: [ \u001b[32m\"uri:ex#EE927495-69A5-4A56-BA5A-1AACF13251FB\"\u001b[39m, \u001b[32m\"_:n3-61\"\u001b[39m ]\n",
       "  },\n",
       "  {\n",
       "    path: [ \u001b[32m\"uri:ex#EFF65694-CD69-4DDA-9813-0E1598363BAF\"\u001b[39m, \u001b[32m\"_:n3-63\"\u001b[39m ]\n",
       "  },\n",
       "  {\n",
       "    path: [ \u001b[32m\"uri:ex#249376DD-9F8B-449F-AC50-E6411415B7DF\"\u001b[39m, \u001b[32m\"_:n3-64\"\u001b[39m ]\n",
       "  },\n",
       "  {\n",
       "    path: [ \u001b[32m\"uri:ex#6D486AB3-E8C4-404D-BB91-A8CC01F8EB33\"\u001b[39m, \u001b[32m\"_:n3-65\"\u001b[39m ]\n",
       "  },\n",
       "  {\n",
       "    path: [ \u001b[32m\"uri:ex#19E1CB19-4225-4772-91DE-42C993645C10\"\u001b[39m, \u001b[32m\"_:n3-67\"\u001b[39m ]\n",
       "  },\n",
       "  {\n",
       "    path: [ \u001b[32m\"uri:ex#3AE1B8CB-659C-4DD9-882B-6F557FDE8CF2\"\u001b[39m, \u001b[32m\"_:n3-69\"\u001b[39m ]\n",
       "  },\n",
       "  {\n",
       "    path: [ \u001b[32m\"uri:ex#B902DEE1-9B3E-43E9-8962-20DD0DD66DF2\"\u001b[39m, \u001b[32m\"_:n3-70\"\u001b[39m ]\n",
       "  },\n",
       "  {\n",
       "    path: [ \u001b[32m\"uri:ex#1619D8A6-6F89-4F93-BDAA-19EDB6F29F43\"\u001b[39m, \u001b[32m\"_:n3-72\"\u001b[39m ]\n",
       "  },\n",
       "  {\n",
       "    path: [ \u001b[32m\"uri:ex#54834A9C-40A1-4A03-9B00-D53F1C19A61D\"\u001b[39m, \u001b[32m\"_:n3-74\"\u001b[39m ]\n",
       "  },\n",
       "  {\n",
       "    path: [ \u001b[32m\"uri:ex#AF36E71A-6541-4A49-AD8A-8B31BAA3E158\"\u001b[39m, \u001b[32m\"_:n3-76\"\u001b[39m ]\n",
       "  },\n",
       "  {\n",
       "    path: [ \u001b[32m\"uri:ex#C5C8DEC9-0159-46A7-995F-480EC18A0126\"\u001b[39m, \u001b[32m\"_:n3-77\"\u001b[39m ]\n",
       "  },\n",
       "  {\n",
       "    path: [ \u001b[32m\"uri:ex#5700FF6B-ECC8-4748-966F-466406CF0674\"\u001b[39m, \u001b[32m\"_:n3-79\"\u001b[39m ]\n",
       "  },\n",
       "  {\n",
       "    path: [ \u001b[32m\"uri:ex#898AF0F6-295B-42EE-B0D0-2844333B0498\"\u001b[39m, \u001b[32m\"_:n3-80\"\u001b[39m ]\n",
       "  },\n",
       "  {\n",
       "    path: [ \u001b[32m\"uri:ex#B9F846F3-31B7-4A7D-8B9E-D1DABBBC2692\"\u001b[39m, \u001b[32m\"_:n3-82\"\u001b[39m ]\n",
       "  },\n",
       "  {\n",
       "    path: [ \u001b[32m\"uri:ex#2C9FA81C-4215-468A-BC08-55D1DBE0F960\"\u001b[39m, \u001b[32m\"_:n3-83\"\u001b[39m ]\n",
       "  },\n",
       "  {\n",
       "    path: [ \u001b[32m\"uri:ex#CE0B3D61-8FA7-479B-AC02-DF49801F57D6\"\u001b[39m, \u001b[32m\"_:n3-84\"\u001b[39m ]\n",
       "  },\n",
       "  {\n",
       "    path: [ \u001b[32m\"uri:ex#182E9610-75BE-494B-A264-DB8B67D06DFA\"\u001b[39m, \u001b[32m\"_:n3-86\"\u001b[39m ]\n",
       "  },\n",
       "  {\n",
       "    path: [ \u001b[32m\"uri:ex#D1528B10-26A2-470A-80D0-E697ADA5677B\"\u001b[39m, \u001b[32m\"_:n3-88\"\u001b[39m ]\n",
       "  },\n",
       "  {\n",
       "    path: [ \u001b[32m\"uri:ex#C6DA0323-CD7B-4913-942F-15131B2012F1\"\u001b[39m, \u001b[32m\"_:n3-90\"\u001b[39m ]\n",
       "  },\n",
       "  {\n",
       "    path: [ \u001b[32m\"uri:ex#4F5BDD82-7C18-4EC7-8F57-838CC37F1AF8\"\u001b[39m, \u001b[32m\"_:n3-92\"\u001b[39m ]\n",
       "  },\n",
       "  {\n",
       "    path: [ \u001b[32m\"uri:ex#8D893A21-DFD0-4469-8498-F38360C44D56\"\u001b[39m, \u001b[32m\"_:n3-94\"\u001b[39m ]\n",
       "  },\n",
       "  {\n",
       "    path: [ \u001b[32m\"uri:ex#56E038AC-ACDE-4D0A-802F-6535103E00B7\"\u001b[39m, \u001b[32m\"_:n3-96\"\u001b[39m ]\n",
       "  },\n",
       "  {\n",
       "    path: [ \u001b[32m\"uri:ex#8E9E5081-1FAB-4B42-A532-D6D0019722F3\"\u001b[39m, \u001b[32m\"_:n3-98\"\u001b[39m ]\n",
       "  },\n",
       "  {\n",
       "    path: [ \u001b[32m\"uri:ex#83C8CF61-E6C8-493A-B460-178E28B64A84\"\u001b[39m, \u001b[32m\"_:n3-99\"\u001b[39m ]\n",
       "  },\n",
       "  {\n",
       "    path: [ \u001b[32m\"uri:ex#E29170CA-359C-4F92-A773-3F5A42724312\"\u001b[39m, \u001b[32m\"_:n3-101\"\u001b[39m ]\n",
       "  },\n",
       "  {\n",
       "    path: [ \u001b[32m\"uri:ex#EBC607F8-4834-4FFA-921C-3C5525618292\"\u001b[39m, \u001b[32m\"_:n3-103\"\u001b[39m ]\n",
       "  },\n",
       "  {\n",
       "    path: [ \u001b[32m\"uri:ex#C7611EB7-AAAE-4E0E-8F64-09310DFA9056\"\u001b[39m, \u001b[32m\"_:n3-104\"\u001b[39m ]\n",
       "  },\n",
       "  {\n",
       "    path: [ \u001b[32m\"uri:ex#C8877281-616B-4F84-B274-4C6D8F5233B9\"\u001b[39m, \u001b[32m\"_:n3-106\"\u001b[39m ]\n",
       "  },\n",
       "  {\n",
       "    path: [ \u001b[32m\"uri:ex#777858D8-24EB-4595-B6BD-E9E64558F9F6\"\u001b[39m, \u001b[32m\"_:n3-107\"\u001b[39m ]\n",
       "  },\n",
       "  {\n",
       "    path: [ \u001b[32m\"uri:ex#2775F09B-8AC3-4DB0-B603-EAB435A90CB8\"\u001b[39m, \u001b[32m\"_:n3-109\"\u001b[39m ]\n",
       "  },\n",
       "  {\n",
       "    path: [ \u001b[32m\"uri:ex#D8CEC9E2-6DB3-4757-BC75-FD1A74ED39C6\"\u001b[39m, \u001b[32m\"_:n3-111\"\u001b[39m ]\n",
       "  },\n",
       "  {\n",
       "    path: [ \u001b[32m\"uri:ex#C7F08475-6CAA-4652-9201-C0B7402EDB56\"\u001b[39m, \u001b[32m\"_:n3-113\"\u001b[39m ]\n",
       "  }\n",
       "]"
      ]
     },
     "execution_count": 17,
     "metadata": {},
     "output_type": "execute_result"
    }
   ],
   "source": [
    "generateValidationResultTreeData(graphStore.graph)"
   ]
  },
  {
   "cell_type": "markdown",
   "metadata": {},
   "source": []
  }
 ],
 "metadata": {
  "kernelspec": {
   "display_name": "Deno",
   "language": "typescript",
   "name": "deno"
  },
  "language_info": {
   "codemirror_mode": "typescript",
   "file_extension": ".ts",
   "mimetype": "text/x.typescript",
   "name": "typescript",
   "nbconvert_exporter": "script",
   "pygments_lexer": "typescript",
   "version": "5.5.2"
  }
 },
 "nbformat": 4,
 "nbformat_minor": 2
}
