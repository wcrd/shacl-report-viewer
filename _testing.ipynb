{
 "cells": [
  {
   "cell_type": "markdown",
   "metadata": {},
   "source": [
    "# JS-Working\n",
    "This notebook is to test JS functions and work on graph algos"
   ]
  },
  {
   "cell_type": "markdown",
   "metadata": {},
   "source": [
    "## Requirements\n",
    "Install Deno Jupyter Kernel: https://docs.deno.com/runtime/manual/tools/jupyter/"
   ]
  },
  {
   "cell_type": "code",
   "execution_count": 1,
   "metadata": {},
   "outputs": [
    {
     "name": "stdout",
     "output_type": "stream",
     "text": [
      "Hello\n"
     ]
    }
   ],
   "source": [
    "console.log(\"Hello\")"
   ]
  },
  {
   "cell_type": "markdown",
   "metadata": {},
   "source": [
    "### fileUtils"
   ]
  },
  {
   "cell_type": "code",
   "execution_count": 2,
   "metadata": {},
   "outputs": [],
   "source": [
    "async function fileHandler(file){\n",
    "    const text = await readFileAsync(file)\n",
    "    return text\n",
    "};\n",
    "\n",
    "// Helper function to read async\n",
    "function readFileAsync(file) {\n",
    "    return new Promise((resolve, reject) => {\n",
    "        let reader = new FileReader();\n",
    "\n",
    "        reader.onload = () => {\n",
    "            resolve(reader.result);\n",
    "        };\n",
    "\n",
    "        reader.onerror = reject;\n",
    "\n",
    "        reader.readAsText(file);\n",
    "    })\n",
    "}"
   ]
  },
  {
   "cell_type": "markdown",
   "metadata": {},
   "source": [
    "### graph.svelte functions"
   ]
  },
  {
   "cell_type": "code",
   "execution_count": 3,
   "metadata": {},
   "outputs": [],
   "source": [
    "import N3 from 'n3'\n",
    "const { namedNode, defaultGraph } = N3.DataFactory"
   ]
  },
  {
   "cell_type": "code",
   "execution_count": 4,
   "metadata": {},
   "outputs": [],
   "source": [
    "class GraphStore {\n",
    "    graph;\n",
    "    parser = new N3.Parser()\n",
    "\n",
    "    constructor(){\n",
    "        this.graph = new N3.Store()\n",
    "    }\n",
    "\n",
    "    // Will make this a $derived action on text change in future, \n",
    "    // but for now (and speed) will just manually trigger on: file upload | UI Button\n",
    "    async parse(fileAsString, namedgraph=\"https://graph.com/unnamed#\"){\n",
    "        // TODO: namedgraph should be typed / error checked.\n",
    "        const namedGraphNode = namedNode(namedgraph)\n",
    "\n",
    "        await this.parser.parse(fileAsString, (error, quad) => {\n",
    "            if (quad) {\n",
    "                this.graph.addQuad(quad.subject, quad.predicate, quad.object, namedGraphNode)\n",
    "            } else if (error) {\n",
    "                console.log(\"Error parsing: \", error)\n",
    "            } else {\n",
    "                console.log(\"Parsing complete.\") // TODO: Remove this in prod and do something smarter\n",
    "            }\n",
    "        });\n",
    "    }\n",
    "\n",
    "    // Helper methods for processing SHACL result graph\n",
    "    getResultNodes() {\n",
    "        /// Returns all top level validation results\n",
    "        /// Nested result detail needs to be expanded for each top level result\n",
    "        return this.graph.getObjects(null, namedNode(\"http://www.w3.org/ns/shacl#result\"), null)\n",
    "    }\n",
    "\n",
    "    // Couple of DEBUG helper methods\n",
    "    _node(uri) { return namedNode(uri) }\n",
    "    get _default() { return defaultGraph() }\n",
    "    get _namedGraphs() { return Object.keys(this.graph?._graphs) }\n",
    "}"
   ]
  },
  {
   "cell_type": "markdown",
   "metadata": {},
   "source": [
    "## Working"
   ]
  },
  {
   "cell_type": "code",
   "execution_count": 5,
   "metadata": {},
   "outputs": [],
   "source": [
    "// Load file into memory as text\n",
    "// FILE UTILS are not needed as Deno can read using its built in API :)\n",
    "const fileData = await Deno.readTextFile(\"/Users/wcrd/Desktop/report_test_graph_2.ttl\")"
   ]
  },
  {
   "cell_type": "code",
   "execution_count": 6,
   "metadata": {},
   "outputs": [
    {
     "name": "stdout",
     "output_type": "stream",
     "text": [
      "Parsing complete.\n"
     ]
    }
   ],
   "source": [
    "let graphStore = new GraphStore();\n",
    "await graphStore.parse(fileData)"
   ]
  },
  {
   "cell_type": "code",
   "execution_count": 7,
   "metadata": {},
   "outputs": [
    {
     "data": {
      "text/plain": [
       "[\n",
       "  BlankNode { id: \u001b[32m\"_:n3-1\"\u001b[39m },\n",
       "  BlankNode { id: \u001b[32m\"_:n3-3\"\u001b[39m },\n",
       "  BlankNode { id: \u001b[32m\"_:n3-5\"\u001b[39m },\n",
       "  BlankNode { id: \u001b[32m\"_:n3-12\"\u001b[39m },\n",
       "  BlankNode { id: \u001b[32m\"_:n3-13\"\u001b[39m },\n",
       "  BlankNode { id: \u001b[32m\"_:n3-15\"\u001b[39m },\n",
       "  BlankNode { id: \u001b[32m\"_:n3-16\"\u001b[39m },\n",
       "  BlankNode { id: \u001b[32m\"_:n3-18\"\u001b[39m },\n",
       "  BlankNode { id: \u001b[32m\"_:n3-20\"\u001b[39m },\n",
       "  BlankNode { id: \u001b[32m\"_:n3-22\"\u001b[39m },\n",
       "  BlankNode { id: \u001b[32m\"_:n3-23\"\u001b[39m },\n",
       "  BlankNode { id: \u001b[32m\"_:n3-25\"\u001b[39m },\n",
       "  BlankNode { id: \u001b[32m\"_:n3-26\"\u001b[39m },\n",
       "  BlankNode { id: \u001b[32m\"_:n3-27\"\u001b[39m },\n",
       "  BlankNode { id: \u001b[32m\"_:n3-29\"\u001b[39m },\n",
       "  BlankNode { id: \u001b[32m\"_:n3-31\"\u001b[39m },\n",
       "  BlankNode { id: \u001b[32m\"_:n3-33\"\u001b[39m },\n",
       "  BlankNode { id: \u001b[32m\"_:n3-35\"\u001b[39m },\n",
       "  BlankNode { id: \u001b[32m\"_:n3-37\"\u001b[39m },\n",
       "  BlankNode { id: \u001b[32m\"_:n3-39\"\u001b[39m },\n",
       "  BlankNode { id: \u001b[32m\"_:n3-41\"\u001b[39m },\n",
       "  BlankNode { id: \u001b[32m\"_:n3-43\"\u001b[39m },\n",
       "  BlankNode { id: \u001b[32m\"_:n3-45\"\u001b[39m },\n",
       "  BlankNode { id: \u001b[32m\"_:n3-47\"\u001b[39m },\n",
       "  BlankNode { id: \u001b[32m\"_:n3-49\"\u001b[39m },\n",
       "  BlankNode { id: \u001b[32m\"_:n3-51\"\u001b[39m },\n",
       "  BlankNode { id: \u001b[32m\"_:n3-53\"\u001b[39m },\n",
       "  BlankNode { id: \u001b[32m\"_:n3-55\"\u001b[39m },\n",
       "  BlankNode { id: \u001b[32m\"_:n3-56\"\u001b[39m },\n",
       "  BlankNode { id: \u001b[32m\"_:n3-57\"\u001b[39m },\n",
       "  BlankNode { id: \u001b[32m\"_:n3-59\"\u001b[39m },\n",
       "  BlankNode { id: \u001b[32m\"_:n3-60\"\u001b[39m },\n",
       "  BlankNode { id: \u001b[32m\"_:n3-61\"\u001b[39m },\n",
       "  BlankNode { id: \u001b[32m\"_:n3-63\"\u001b[39m },\n",
       "  BlankNode { id: \u001b[32m\"_:n3-64\"\u001b[39m },\n",
       "  BlankNode { id: \u001b[32m\"_:n3-65\"\u001b[39m },\n",
       "  BlankNode { id: \u001b[32m\"_:n3-67\"\u001b[39m },\n",
       "  BlankNode { id: \u001b[32m\"_:n3-69\"\u001b[39m },\n",
       "  BlankNode { id: \u001b[32m\"_:n3-70\"\u001b[39m },\n",
       "  BlankNode { id: \u001b[32m\"_:n3-72\"\u001b[39m },\n",
       "  BlankNode { id: \u001b[32m\"_:n3-74\"\u001b[39m },\n",
       "  BlankNode { id: \u001b[32m\"_:n3-76\"\u001b[39m },\n",
       "  BlankNode { id: \u001b[32m\"_:n3-77\"\u001b[39m },\n",
       "  BlankNode { id: \u001b[32m\"_:n3-79\"\u001b[39m },\n",
       "  BlankNode { id: \u001b[32m\"_:n3-80\"\u001b[39m },\n",
       "  BlankNode { id: \u001b[32m\"_:n3-82\"\u001b[39m },\n",
       "  BlankNode { id: \u001b[32m\"_:n3-83\"\u001b[39m },\n",
       "  BlankNode { id: \u001b[32m\"_:n3-84\"\u001b[39m },\n",
       "  BlankNode { id: \u001b[32m\"_:n3-86\"\u001b[39m },\n",
       "  BlankNode { id: \u001b[32m\"_:n3-88\"\u001b[39m },\n",
       "  BlankNode { id: \u001b[32m\"_:n3-90\"\u001b[39m },\n",
       "  BlankNode { id: \u001b[32m\"_:n3-92\"\u001b[39m },\n",
       "  BlankNode { id: \u001b[32m\"_:n3-94\"\u001b[39m },\n",
       "  BlankNode { id: \u001b[32m\"_:n3-96\"\u001b[39m },\n",
       "  BlankNode { id: \u001b[32m\"_:n3-98\"\u001b[39m },\n",
       "  BlankNode { id: \u001b[32m\"_:n3-99\"\u001b[39m },\n",
       "  BlankNode { id: \u001b[32m\"_:n3-101\"\u001b[39m },\n",
       "  BlankNode { id: \u001b[32m\"_:n3-103\"\u001b[39m },\n",
       "  BlankNode { id: \u001b[32m\"_:n3-104\"\u001b[39m },\n",
       "  BlankNode { id: \u001b[32m\"_:n3-106\"\u001b[39m },\n",
       "  BlankNode { id: \u001b[32m\"_:n3-107\"\u001b[39m },\n",
       "  BlankNode { id: \u001b[32m\"_:n3-109\"\u001b[39m },\n",
       "  BlankNode { id: \u001b[32m\"_:n3-111\"\u001b[39m },\n",
       "  BlankNode { id: \u001b[32m\"_:n3-113\"\u001b[39m }\n",
       "]"
      ]
     },
     "execution_count": 7,
     "metadata": {},
     "output_type": "execute_result"
    }
   ],
   "source": [
    "graphStore.getResultNodes()"
   ]
  },
  {
   "cell_type": "markdown",
   "metadata": {},
   "source": [
    "## Tree Generator\n",
    "Now that we have the graph data available in here, lets write an ag-grid tree generator"
   ]
  },
  {
   "cell_type": "markdown",
   "metadata": {},
   "source": [
    "EG from ag-grid.com\n",
    "\n",
    "```javascript\n",
    "const rowData = [\n",
    "    { orgHierarchy: ['Erica'], jobTitle: \"CEO\", employmentType: \"Permanent\" },\n",
    "    { orgHierarchy: ['Erica', 'Malcolm'], jobTitle: \"VP\", employmentType: \"Permanent\" }\n",
    "    ...\n",
    "]\n",
    "```\n",
    "\n",
    "Need to provide path as array\n"
   ]
  },
  {
   "cell_type": "code",
   "execution_count": 8,
   "metadata": {},
   "outputs": [],
   "source": [
    "/* \n",
    "Plan\n",
    "--------\n",
    "for each top level result:\n",
    "    enrich\n",
    "    recursively decend detail until no more\n",
    "        for each detail, enrich\n",
    "*/\n",
    "\n",
    "function enrichNode(store, node){\n",
    "    // get all pred-objs\n",
    "    const quads = store.getQuads(node, null, null, null)\n",
    "\n",
    "    // expand and turn into a wide data row\n",
    "    // have to use 2x map b/c reduce was giving me weird errors\n",
    "    const keys = quads.map(r => r._predicate.id.split(\"#\")[1])\n",
    "    const values = quads.map(r => r._object.id)\n",
    "\n",
    "    return { id: node.id, ...createObject(keys, values) }\n",
    "}\n",
    "\n",
    "function getTopLevelResults(store){\n",
    "    /// Returns all top level validation results\n",
    "    return store.getObjects(null, namedNode(\"http://www.w3.org/ns/shacl#result\"), null)\n",
    "}\n",
    "\n",
    "function getResultDetails(store, node){\n",
    "    /// for the given node, get all validation result details, if present\n",
    "    return store.getObjects(node, namedNode(\"http://www.w3.org/ns/shacl#detail\"), null)\n",
    "}\n",
    "\n",
    "\n",
    "// Util\n",
    "function createObject(keys, values) {\n",
    "    // Given list of keys and values, zip into object.\n",
    "    const obj = Object.fromEntries(\n",
    "        keys.map((key, index) => [key, values[index]]),\n",
    "    );\n",
    "\n",
    "    return obj;\n",
    "}\n"
   ]
  },
  {
   "cell_type": "code",
   "execution_count": 28,
   "metadata": {},
   "outputs": [],
   "source": [
    "function generateValidationResultTreeData(store, rootAtFocus=true){\n",
    "    /// Given a graph (store) of a valid SHACL result graph; generate an ag-grid compatible tree ;\n",
    "    /// Additionally enrich nodes with data for grid columns.\n",
    "    let results = []\n",
    "\n",
    "    for (let node of getTopLevelResults(store)) {\n",
    "        let path = []\n",
    "        // seed path\n",
    "        if(rootAtFocus) { path.push( store.getObjects(node, namedNode(\"http://www.w3.org/ns/shacl#focusNode\"), null)?.[0]?.id ) }\n",
    "        path.push(node.id)\n",
    "\n",
    "        results.push({path, ...enrichNode(store, node)})\n",
    "\n",
    "        // recurse the details\n",
    "        _recursivelyGetDetail(store, node, path, results)\n",
    "    }\n",
    "\n",
    "    return results\n",
    "}\n",
    "\n",
    "function _recursivelyGetDetail(store, node, path, results){\n",
    "    // let result = []\n",
    "    // given a node, get detail if exists\n",
    "    const detailNodes = getResultDetails(store, node)\n",
    "\n",
    "    for (let detailNode of detailNodes){\n",
    "        const newPath = [...path, detailNode.id]\n",
    "        results.push({path: newPath, ...enrichNode(store, detailNode)})\n",
    "\n",
    "        _recursivelyGetDetail(store, detailNode, newPath, results)\n",
    "    }\n",
    "}\n"
   ]
  },
  {
   "cell_type": "code",
   "execution_count": 10,
   "metadata": {},
   "outputs": [],
   "source": [
    "let topLevelNodes = getTopLevelResults(graphStore.graph)"
   ]
  },
  {
   "cell_type": "code",
   "execution_count": 11,
   "metadata": {},
   "outputs": [
    {
     "data": {
      "text/plain": [
       "{\n",
       "  id: \u001b[32m\"_:n3-1\"\u001b[39m,\n",
       "  type: \u001b[32m\"http://www.w3.org/ns/shacl#ValidationResult\"\u001b[39m,\n",
       "  focusNode: \u001b[32m\"uri:ex#DB3A04F0-5109-4514-9192-434AA2D34ADE\"\u001b[39m,\n",
       "  resultMessage: \u001b[32m'\"Value does not conform to Shape plV:Zone_Node_Cardinality. See details for more information.\"'\u001b[39m,\n",
       "  resultSeverity: \u001b[32m\"http://www.w3.org/ns/shacl#Violation\"\u001b[39m,\n",
       "  sourceConstraintComponent: \u001b[32m\"http://www.w3.org/ns/shacl#NodeConstraintComponent\"\u001b[39m,\n",
       "  sourceShape: \u001b[32m\"https://www.passivelogic.com/schema/EntityValidationShape#Zone_Atomics\"\u001b[39m,\n",
       "  detail: \u001b[32m\"_:n3-2\"\u001b[39m,\n",
       "  value: \u001b[32m\"uri:ex#DB3A04F0-5109-4514-9192-434AA2D34ADE\"\u001b[39m\n",
       "}"
      ]
     },
     "execution_count": 11,
     "metadata": {},
     "output_type": "execute_result"
    }
   ],
   "source": [
    "enrichNode(graphStore.graph, topLevelNodes[0])"
   ]
  },
  {
   "cell_type": "code",
   "execution_count": 12,
   "metadata": {},
   "outputs": [
    {
     "name": "stdout",
     "output_type": "stream",
     "text": [
      "{\n",
      "  id: \"_:n3-2\",\n",
      "  type: \"http://www.w3.org/ns/shacl#ValidationResult\",\n",
      "  focusNode: \"uri:ex#DB3A04F0-5109-4514-9192-434AA2D34ADE\",\n",
      "  resultMessage: '\"Zone does not have a volume property\"',\n",
      "  resultPath: \"https://www.passivelogic.com/schema/core#hasProperty\",\n",
      "  resultSeverity: \"http://www.w3.org/ns/shacl#Violation\",\n",
      "  sourceConstraintComponent: \"http://www.w3.org/ns/shacl#QualifiedMinCountConstraintComponent\",\n",
      "  sourceShape: \"_:b0_n8b1237bed3344264a4681a4ea0713f1eb14\"\n",
      "}\n"
     ]
    }
   ],
   "source": [
    "getResultDetails(graphStore.graph, topLevelNodes[0]).forEach((res)=>{ console.log(enrichNode(graphStore.graph, res))})"
   ]
  },
  {
   "cell_type": "code",
   "execution_count": 13,
   "metadata": {},
   "outputs": [
    {
     "data": {
      "text/plain": [
       "\u001b[32m\"_:n3-1\"\u001b[39m"
      ]
     },
     "execution_count": 13,
     "metadata": {},
     "output_type": "execute_result"
    }
   ],
   "source": [
    "topLevelNodes[0].id"
   ]
  },
  {
   "cell_type": "code",
   "execution_count": 29,
   "metadata": {},
   "outputs": [],
   "source": [
    "const res = generateValidationResultTreeData(graphStore.graph)"
   ]
  },
  {
   "cell_type": "code",
   "execution_count": 30,
   "metadata": {},
   "outputs": [],
   "source": [
    "await Deno.writeTextFile(\"test_data.json\", JSON.stringify(res))"
   ]
  },
  {
   "cell_type": "markdown",
   "metadata": {},
   "source": []
  }
 ],
 "metadata": {
  "kernelspec": {
   "display_name": "Deno",
   "language": "typescript",
   "name": "deno"
  },
  "language_info": {
   "codemirror_mode": "typescript",
   "file_extension": ".ts",
   "mimetype": "text/x.typescript",
   "name": "typescript",
   "nbconvert_exporter": "script",
   "pygments_lexer": "typescript",
   "version": "5.5.2"
  }
 },
 "nbformat": 4,
 "nbformat_minor": 2
}
